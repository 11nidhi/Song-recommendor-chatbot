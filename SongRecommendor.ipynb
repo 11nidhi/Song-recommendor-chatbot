{
  "nbformat": 4,
  "nbformat_minor": 0,
  "metadata": {
    "colab": {
      "name": "SongRecommendor.ipynb",
      "provenance": [],
      "authorship_tag": "ABX9TyNujVvghmeBDhAKtwtCvD/+",
      "include_colab_link": true
    },
    "kernelspec": {
      "name": "python3",
      "display_name": "Python 3"
    },
    "language_info": {
      "name": "python"
    }
  },
  "cells": [
    {
      "cell_type": "markdown",
      "metadata": {
        "id": "view-in-github",
        "colab_type": "text"
      },
      "source": [
        "<a href=\"https://colab.research.google.com/github/11nidhi/Song-recommendor-chatbot/blob/main/SongRecommendor.ipynb\" target=\"_parent\"><img src=\"https://colab.research.google.com/assets/colab-badge.svg\" alt=\"Open In Colab\"/></a>"
      ]
    },
    {
      "cell_type": "code",
      "metadata": {
        "colab": {
          "base_uri": "https://localhost:8080/"
        },
        "id": "G1n43SGxOBmP",
        "outputId": "312735c6-1f9c-4577-cfd6-b9377e0a4700"
      },
      "source": [
        "from random import choice\n",
        "\n",
        "def get_bot_response(user_response):\n",
        "\n",
        "  # lofi beats to chill/study to\n",
        "  bot_response_lofi = [\"Birocratic\", \"Dusty Decks\", \"Kino B\",  \"Giants Nest\",\"Blue Steel\", \"gate\"]\n",
        "  # hip hop\n",
        "  bot_response_hiphop = [\"Nas\", \"Common\", \"Kendrick Lamar\", \"Kid Cudi\"]\n",
        "  # all the cringe rock of the 00s\n",
        "  bot_response_rock = [\"Creed\", \"Nickelback\", \"Three Days Grace\", \"3 Doors Down\"]\n",
        "  # electronic\n",
        "  bot_response_electronic = [\"Jai Gourgaud\", \"Astron\" \"Zircon\", \"Ronald Jenkees\", \"The Field\"]\n",
        "  # country\n",
        "  bot_response_country = [\"Haha, just kidding. I don't listen to country, sorry!\", \"Tricked you! Country is gross, hard pass on that one.\"]\n",
        "  # classical\n",
        "  bot_response_classical = [\"Beethoven\", \"Mozart\", \"Debussy\", \"Tchaikovsky\", \"Eric Whitaker\"]\n",
        "  # if the user doesn't want recommendations, but just wants to talk about music\n",
        "  bot_response_listening = [\"\\nFeel free to vent away, friend.\"]\n",
        "\n",
        "  if user_response == \"lofi\":\n",
        "    return choice(bot_response_lofi)\n",
        "  elif user_response == \"hip hop\":\n",
        "    return choice(bot_response_hiphop)\n",
        "  elif user_response == \"rock\":\n",
        "    return choice(bot_response_rock)\n",
        "  elif user_response == \"electronic\":\n",
        "    return choice(bot_response_electronic)\n",
        "  elif user_response == \"country\":\n",
        "    return choice(bot_response_country)\n",
        "  elif user_response == \"classical\":\n",
        "    return choice(bot_response_classical)\n",
        "  elif user_response == \"talk\":\n",
        "    print(choice(bot_response_listening))\n",
        "    user_vent = input(\"Go ahead and say whatever it is you want. \\n \\n\")\n",
        "    return \"\\nGlad you got that off your chest.\"\n",
        "  else:\n",
        "    return \"\\nHmm, sorry, I'm not sure what you mean by that.\"\n",
        "\n",
        "# function to get a single usable word for the genre, just in case the user enters a sentence with the genre\n",
        "def getValidGenre():\n",
        "\n",
        "  prompt = \"\\nI'll try my best to put you on something new. I'm into lofi, hip hop, rock, electronic, country, and classical. \\n\"\n",
        "  print(prompt)\n",
        "\n",
        "  # genre list for validation check\n",
        "  genreList = [\"lofi\", \"hip hop\", \"rock\", \"electronic\",  \"country\", \"classical\"]\n",
        "  userGenre = input(\"What genre do you want recommendations for? \")\n",
        "\n",
        "  # prompt for genre until the user gets it\n",
        "  while userGenre not in genreList:\n",
        "    userGenre = input(\"\\nI'm not sure what you mean, can you try again with just the genre, please: \\n\")\n",
        "  # return valid genre\n",
        "  return userGenre\n",
        "\n",
        "\n",
        "def main():\n",
        "  print(\"Hey I'm music bot! I'd love to (ideally) talk about music with you.\")\n",
        "\n",
        "  user_response = \"\"\n",
        "\n",
        "  while \"bye\" not in user_response:\n",
        "    user_response = input(\"\\nDo you want some music recommendations or do you just want to talk? If you're done chatting, just say bye before you go! \\n \\n\")\n",
        "\n",
        "    # exit if the user said bye in any way\n",
        "    if \"bye\" in user_response:\n",
        "      break\n",
        "    # recommendations prompt for genre\n",
        "    elif \"recommendations\" in user_response:\n",
        "      user_response = getValidGenre()\n",
        "      print(\"\\nI think you would like: \")\n",
        "    # set user_response to \"talk\" if that was in their response, as users may not solely enter \"talk\"\n",
        "    elif \"talk\" in user_response:\n",
        "      user_response = \"talk\"\n",
        "\n",
        "    # call get_bot_response for the response and print\n",
        "    bot_response = get_bot_response(user_response)\n",
        "    print(bot_response)\n",
        "\n",
        "main()"
      ],
      "execution_count": 1,
      "outputs": [
        {
          "name": "stdout",
          "output_type": "stream",
          "text": [
            "Hey I'm music bot! I'd love to (ideally) talk about music with you.\n",
            "\n",
            "Do you want some music recommendations or do you just want to talk? If you're done chatting, just say bye before you go! \n",
            " \n",
            "i want some music recommendations\n",
            "\n",
            "I'll try my best to put you on something new. I'm into lofi, hip hop, rock, electronic, country, and classical. \n",
            "\n",
            "What genre do you want recommendations for? rock\n",
            "\n",
            "I think you would like: \n",
            "Three Days Grace\n",
            "\n",
            "Do you want some music recommendations or do you just want to talk? If you're done chatting, just say bye before you go! \n",
            " \n",
            "bye\n"
          ]
        }
      ]
    }
  ]
}